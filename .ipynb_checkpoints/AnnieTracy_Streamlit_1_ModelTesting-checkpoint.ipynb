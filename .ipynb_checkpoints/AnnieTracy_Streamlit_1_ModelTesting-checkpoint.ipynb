{
 "cells": [
  {
   "cell_type": "code",
   "execution_count": 61,
   "id": "696401c5",
   "metadata": {},
   "outputs": [],
   "source": [
    "import numpy as np\n",
    "import pandas as pd\n",
    "import matplotlib.pyplot as plt\n",
    "import seaborn as sns\n",
    "import streamlit as st \n",
    "from sklearn.linear_model import LinearRegression, LassoCV\n",
    "from sklearn.model_selection import train_test_split"
   ]
  },
  {
   "cell_type": "code",
   "execution_count": 62,
   "id": "b07fb570",
   "metadata": {},
   "outputs": [],
   "source": [
    "tk_data = pd.read_csv('~/Desktop/CraftIQ/GitHub/AnnieTracy-TikTok-Analysis/Data/z_RegressionSocialData.csv')\n",
    "x = tk_data.drop('Profile Views', axis =1)\n",
    "y = tk_data['Profile Views']\n",
    "x_train, x_test, y_train, y_test = train_test_split(x,y, test_size = 0.1, random_state = 123)"
   ]
  },
  {
   "cell_type": "code",
   "execution_count": 3,
   "id": "f9a40797",
   "metadata": {},
   "outputs": [
    {
     "data": {
      "text/html": [
       "<div>\n",
       "<style scoped>\n",
       "    .dataframe tbody tr th:only-of-type {\n",
       "        vertical-align: middle;\n",
       "    }\n",
       "\n",
       "    .dataframe tbody tr th {\n",
       "        vertical-align: top;\n",
       "    }\n",
       "\n",
       "    .dataframe thead th {\n",
       "        text-align: right;\n",
       "    }\n",
       "</style>\n",
       "<table border=\"1\" class=\"dataframe\">\n",
       "  <thead>\n",
       "    <tr style=\"text-align: right;\">\n",
       "      <th></th>\n",
       "      <th>Video Views</th>\n",
       "      <th>Likes</th>\n",
       "      <th>Comments</th>\n",
       "      <th>Shares</th>\n",
       "      <th>Unique Viewers</th>\n",
       "    </tr>\n",
       "  </thead>\n",
       "  <tbody>\n",
       "    <tr>\n",
       "      <th>33</th>\n",
       "      <td>-0.052872</td>\n",
       "      <td>0.026852</td>\n",
       "      <td>-0.055577</td>\n",
       "      <td>-0.029144</td>\n",
       "      <td>-0.082457</td>\n",
       "    </tr>\n",
       "    <tr>\n",
       "      <th>51</th>\n",
       "      <td>-0.551792</td>\n",
       "      <td>-0.537170</td>\n",
       "      <td>-0.612073</td>\n",
       "      <td>-0.540562</td>\n",
       "      <td>-0.550754</td>\n",
       "    </tr>\n",
       "    <tr>\n",
       "      <th>8</th>\n",
       "      <td>1.679688</td>\n",
       "      <td>2.206835</td>\n",
       "      <td>2.227483</td>\n",
       "      <td>1.949498</td>\n",
       "      <td>1.728406</td>\n",
       "    </tr>\n",
       "    <tr>\n",
       "      <th>63</th>\n",
       "      <td>-0.051971</td>\n",
       "      <td>-0.027187</td>\n",
       "      <td>-0.141192</td>\n",
       "      <td>-0.359331</td>\n",
       "      <td>0.008548</td>\n",
       "    </tr>\n",
       "    <tr>\n",
       "      <th>89</th>\n",
       "      <td>0.100516</td>\n",
       "      <td>0.010081</td>\n",
       "      <td>0.096627</td>\n",
       "      <td>-0.106105</td>\n",
       "      <td>0.117276</td>\n",
       "    </tr>\n",
       "    <tr>\n",
       "      <th>...</th>\n",
       "      <td>...</td>\n",
       "      <td>...</td>\n",
       "      <td>...</td>\n",
       "      <td>...</td>\n",
       "      <td>...</td>\n",
       "    </tr>\n",
       "    <tr>\n",
       "      <th>86</th>\n",
       "      <td>0.005414</td>\n",
       "      <td>-0.131537</td>\n",
       "      <td>-0.450356</td>\n",
       "      <td>-0.480979</td>\n",
       "      <td>0.049400</td>\n",
       "    </tr>\n",
       "    <tr>\n",
       "      <th>57</th>\n",
       "      <td>-0.551404</td>\n",
       "      <td>-0.512063</td>\n",
       "      <td>-0.526458</td>\n",
       "      <td>-0.555457</td>\n",
       "      <td>-0.517131</td>\n",
       "    </tr>\n",
       "    <tr>\n",
       "      <th>83</th>\n",
       "      <td>0.048273</td>\n",
       "      <td>-0.065534</td>\n",
       "      <td>-0.288640</td>\n",
       "      <td>-0.264992</td>\n",
       "      <td>0.026558</td>\n",
       "    </tr>\n",
       "    <tr>\n",
       "      <th>17</th>\n",
       "      <td>-0.179523</td>\n",
       "      <td>-0.200581</td>\n",
       "      <td>-0.212538</td>\n",
       "      <td>-0.230235</td>\n",
       "      <td>-0.226195</td>\n",
       "    </tr>\n",
       "    <tr>\n",
       "      <th>66</th>\n",
       "      <td>-0.560924</td>\n",
       "      <td>-0.574340</td>\n",
       "      <td>-0.616830</td>\n",
       "      <td>-0.580284</td>\n",
       "      <td>-0.579725</td>\n",
       "    </tr>\n",
       "  </tbody>\n",
       "</table>\n",
       "<p>82 rows × 5 columns</p>\n",
       "</div>"
      ],
      "text/plain": [
       "    Video Views     Likes  Comments    Shares  Unique Viewers\n",
       "33    -0.052872  0.026852 -0.055577 -0.029144       -0.082457\n",
       "51    -0.551792 -0.537170 -0.612073 -0.540562       -0.550754\n",
       "8      1.679688  2.206835  2.227483  1.949498        1.728406\n",
       "63    -0.051971 -0.027187 -0.141192 -0.359331        0.008548\n",
       "89     0.100516  0.010081  0.096627 -0.106105        0.117276\n",
       "..          ...       ...       ...       ...             ...\n",
       "86     0.005414 -0.131537 -0.450356 -0.480979        0.049400\n",
       "57    -0.551404 -0.512063 -0.526458 -0.555457       -0.517131\n",
       "83     0.048273 -0.065534 -0.288640 -0.264992        0.026558\n",
       "17    -0.179523 -0.200581 -0.212538 -0.230235       -0.226195\n",
       "66    -0.560924 -0.574340 -0.616830 -0.580284       -0.579725\n",
       "\n",
       "[82 rows x 5 columns]"
      ]
     },
     "execution_count": 3,
     "metadata": {},
     "output_type": "execute_result"
    }
   ],
   "source": [
    "x_train_p = np.array(x_train)\n",
    "x_train"
   ]
  },
  {
   "cell_type": "code",
   "execution_count": 4,
   "id": "f10ca180",
   "metadata": {},
   "outputs": [],
   "source": [
    "y_train_p = np.array(y_train).ravel()"
   ]
  },
  {
   "cell_type": "code",
   "execution_count": 5,
   "id": "1506ea83",
   "metadata": {},
   "outputs": [
    {
     "data": {
      "text/plain": [
       "33    2016\n",
       "51     620\n",
       "8     6028\n",
       "63    1346\n",
       "89    1945\n",
       "      ... \n",
       "86    1687\n",
       "57     441\n",
       "83    1820\n",
       "17    1572\n",
       "66     577\n",
       "Name: Profile Views, Length: 82, dtype: int64"
      ]
     },
     "execution_count": 5,
     "metadata": {},
     "output_type": "execute_result"
    }
   ],
   "source": [
    "y_train"
   ]
  },
  {
   "cell_type": "code",
   "execution_count": 6,
   "id": "cf87d469",
   "metadata": {
    "scrolled": true
   },
   "outputs": [
    {
     "data": {
      "text/plain": [
       "10"
      ]
     },
     "execution_count": 6,
     "metadata": {},
     "output_type": "execute_result"
    }
   ],
   "source": [
    "y_test.count()"
   ]
  },
  {
   "cell_type": "code",
   "execution_count": 7,
   "id": "0b2fd346",
   "metadata": {
    "scrolled": true
   },
   "outputs": [
    {
     "data": {
      "text/plain": [
       "Video Views       10\n",
       "Likes             10\n",
       "Comments          10\n",
       "Shares            10\n",
       "Unique Viewers    10\n",
       "dtype: int64"
      ]
     },
     "execution_count": 7,
     "metadata": {},
     "output_type": "execute_result"
    }
   ],
   "source": [
    "x_test.count()"
   ]
  },
  {
   "cell_type": "code",
   "execution_count": 8,
   "id": "698fdc9b",
   "metadata": {
    "scrolled": true
   },
   "outputs": [
    {
     "data": {
      "text/plain": [
       "Video Views       82\n",
       "Likes             82\n",
       "Comments          82\n",
       "Shares            82\n",
       "Unique Viewers    82\n",
       "dtype: int64"
      ]
     },
     "execution_count": 8,
     "metadata": {},
     "output_type": "execute_result"
    }
   ],
   "source": [
    "x_train.count()"
   ]
  },
  {
   "cell_type": "code",
   "execution_count": 9,
   "id": "ce23f9e5",
   "metadata": {},
   "outputs": [
    {
     "data": {
      "text/plain": [
       "82"
      ]
     },
     "execution_count": 9,
     "metadata": {},
     "output_type": "execute_result"
    }
   ],
   "source": [
    "y_train.count()"
   ]
  },
  {
   "cell_type": "code",
   "execution_count": 10,
   "id": "106c7034",
   "metadata": {},
   "outputs": [
    {
     "data": {
      "text/html": [
       "<style>#sk-container-id-1 {color: black;}#sk-container-id-1 pre{padding: 0;}#sk-container-id-1 div.sk-toggleable {background-color: white;}#sk-container-id-1 label.sk-toggleable__label {cursor: pointer;display: block;width: 100%;margin-bottom: 0;padding: 0.3em;box-sizing: border-box;text-align: center;}#sk-container-id-1 label.sk-toggleable__label-arrow:before {content: \"▸\";float: left;margin-right: 0.25em;color: #696969;}#sk-container-id-1 label.sk-toggleable__label-arrow:hover:before {color: black;}#sk-container-id-1 div.sk-estimator:hover label.sk-toggleable__label-arrow:before {color: black;}#sk-container-id-1 div.sk-toggleable__content {max-height: 0;max-width: 0;overflow: hidden;text-align: left;background-color: #f0f8ff;}#sk-container-id-1 div.sk-toggleable__content pre {margin: 0.2em;color: black;border-radius: 0.25em;background-color: #f0f8ff;}#sk-container-id-1 input.sk-toggleable__control:checked~div.sk-toggleable__content {max-height: 200px;max-width: 100%;overflow: auto;}#sk-container-id-1 input.sk-toggleable__control:checked~label.sk-toggleable__label-arrow:before {content: \"▾\";}#sk-container-id-1 div.sk-estimator input.sk-toggleable__control:checked~label.sk-toggleable__label {background-color: #d4ebff;}#sk-container-id-1 div.sk-label input.sk-toggleable__control:checked~label.sk-toggleable__label {background-color: #d4ebff;}#sk-container-id-1 input.sk-hidden--visually {border: 0;clip: rect(1px 1px 1px 1px);clip: rect(1px, 1px, 1px, 1px);height: 1px;margin: -1px;overflow: hidden;padding: 0;position: absolute;width: 1px;}#sk-container-id-1 div.sk-estimator {font-family: monospace;background-color: #f0f8ff;border: 1px dotted black;border-radius: 0.25em;box-sizing: border-box;margin-bottom: 0.5em;}#sk-container-id-1 div.sk-estimator:hover {background-color: #d4ebff;}#sk-container-id-1 div.sk-parallel-item::after {content: \"\";width: 100%;border-bottom: 1px solid gray;flex-grow: 1;}#sk-container-id-1 div.sk-label:hover label.sk-toggleable__label {background-color: #d4ebff;}#sk-container-id-1 div.sk-serial::before {content: \"\";position: absolute;border-left: 1px solid gray;box-sizing: border-box;top: 0;bottom: 0;left: 50%;z-index: 0;}#sk-container-id-1 div.sk-serial {display: flex;flex-direction: column;align-items: center;background-color: white;padding-right: 0.2em;padding-left: 0.2em;position: relative;}#sk-container-id-1 div.sk-item {position: relative;z-index: 1;}#sk-container-id-1 div.sk-parallel {display: flex;align-items: stretch;justify-content: center;background-color: white;position: relative;}#sk-container-id-1 div.sk-item::before, #sk-container-id-1 div.sk-parallel-item::before {content: \"\";position: absolute;border-left: 1px solid gray;box-sizing: border-box;top: 0;bottom: 0;left: 50%;z-index: -1;}#sk-container-id-1 div.sk-parallel-item {display: flex;flex-direction: column;z-index: 1;position: relative;background-color: white;}#sk-container-id-1 div.sk-parallel-item:first-child::after {align-self: flex-end;width: 50%;}#sk-container-id-1 div.sk-parallel-item:last-child::after {align-self: flex-start;width: 50%;}#sk-container-id-1 div.sk-parallel-item:only-child::after {width: 0;}#sk-container-id-1 div.sk-dashed-wrapped {border: 1px dashed gray;margin: 0 0.4em 0.5em 0.4em;box-sizing: border-box;padding-bottom: 0.4em;background-color: white;}#sk-container-id-1 div.sk-label label {font-family: monospace;font-weight: bold;display: inline-block;line-height: 1.2em;}#sk-container-id-1 div.sk-label-container {text-align: center;}#sk-container-id-1 div.sk-container {/* jupyter's `normalize.less` sets `[hidden] { display: none; }` but bootstrap.min.css set `[hidden] { display: none !important; }` so we also need the `!important` here to be able to override the default hidden behavior on the sphinx rendered scikit-learn.org. See: https://github.com/scikit-learn/scikit-learn/issues/21755 */display: inline-block !important;position: relative;}#sk-container-id-1 div.sk-text-repr-fallback {display: none;}</style><div id=\"sk-container-id-1\" class=\"sk-top-container\"><div class=\"sk-text-repr-fallback\"><pre>LassoCV()</pre><b>In a Jupyter environment, please rerun this cell to show the HTML representation or trust the notebook. <br />On GitHub, the HTML representation is unable to render, please try loading this page with nbviewer.org.</b></div><div class=\"sk-container\" hidden><div class=\"sk-item\"><div class=\"sk-estimator sk-toggleable\"><input class=\"sk-toggleable__control sk-hidden--visually\" id=\"sk-estimator-id-1\" type=\"checkbox\" checked><label for=\"sk-estimator-id-1\" class=\"sk-toggleable__label sk-toggleable__label-arrow\">LassoCV</label><div class=\"sk-toggleable__content\"><pre>LassoCV()</pre></div></div></div></div></div>"
      ],
      "text/plain": [
       "LassoCV()"
      ]
     },
     "execution_count": 10,
     "metadata": {},
     "output_type": "execute_result"
    }
   ],
   "source": [
    "lasso_cv = LassoCV() #lasso_cv is the container for parameter m and c in y=mX+c\n",
    "\n",
    "lasso_cv.fit(x_train_p , y_train_p) #training part to get m and c (least squares)"
   ]
  },
  {
   "cell_type": "code",
   "execution_count": 11,
   "id": "636b513a",
   "metadata": {},
   "outputs": [
    {
     "name": "stdout",
     "output_type": "stream",
     "text": [
      "1986.0\n",
      "[10525. -1538.  -459.   905. -6759.]\n"
     ]
    }
   ],
   "source": [
    "b = lasso_cv.intercept_.round(0)\n",
    "w = lasso_cv.coef_.round(0).ravel()\n",
    "\n",
    "print(b)\n",
    "print(w)"
   ]
  },
  {
   "cell_type": "code",
   "execution_count": 12,
   "id": "a0e4786f",
   "metadata": {},
   "outputs": [],
   "source": [
    "y_pred = np.dot(x_test, w) + b #dot product because x_test is a matrix / dataframe of 10,5"
   ]
  },
  {
   "cell_type": "code",
   "execution_count": 13,
   "id": "555a4787",
   "metadata": {},
   "outputs": [
    {
     "data": {
      "text/html": [
       "<div>\n",
       "<style scoped>\n",
       "    .dataframe tbody tr th:only-of-type {\n",
       "        vertical-align: middle;\n",
       "    }\n",
       "\n",
       "    .dataframe tbody tr th {\n",
       "        vertical-align: top;\n",
       "    }\n",
       "\n",
       "    .dataframe thead th {\n",
       "        text-align: right;\n",
       "    }\n",
       "</style>\n",
       "<table border=\"1\" class=\"dataframe\">\n",
       "  <thead>\n",
       "    <tr style=\"text-align: right;\">\n",
       "      <th></th>\n",
       "      <th>Video Views</th>\n",
       "      <th>Likes</th>\n",
       "      <th>Comments</th>\n",
       "      <th>Shares</th>\n",
       "      <th>Unique Viewers</th>\n",
       "    </tr>\n",
       "  </thead>\n",
       "  <tbody>\n",
       "    <tr>\n",
       "      <th>71</th>\n",
       "      <td>-0.629974</td>\n",
       "      <td>-0.623181</td>\n",
       "      <td>-0.726226</td>\n",
       "      <td>-0.639866</td>\n",
       "      <td>-0.627373</td>\n",
       "    </tr>\n",
       "    <tr>\n",
       "      <th>62</th>\n",
       "      <td>0.606175</td>\n",
       "      <td>0.729845</td>\n",
       "      <td>0.681661</td>\n",
       "      <td>0.008095</td>\n",
       "      <td>0.743245</td>\n",
       "    </tr>\n",
       "    <tr>\n",
       "      <th>29</th>\n",
       "      <td>-0.411971</td>\n",
       "      <td>-0.443706</td>\n",
       "      <td>-0.578779</td>\n",
       "      <td>-0.433809</td>\n",
       "      <td>-0.403068</td>\n",
       "    </tr>\n",
       "    <tr>\n",
       "      <th>53</th>\n",
       "      <td>-0.601469</td>\n",
       "      <td>-0.570711</td>\n",
       "      <td>-0.702444</td>\n",
       "      <td>-0.615040</td>\n",
       "      <td>-0.578463</td>\n",
       "    </tr>\n",
       "    <tr>\n",
       "      <th>88</th>\n",
       "      <td>-0.191301</td>\n",
       "      <td>-0.319643</td>\n",
       "      <td>-0.540728</td>\n",
       "      <td>-0.468566</td>\n",
       "      <td>-0.147178</td>\n",
       "    </tr>\n",
       "    <tr>\n",
       "      <th>4</th>\n",
       "      <td>0.179018</td>\n",
       "      <td>0.137283</td>\n",
       "      <td>0.691174</td>\n",
       "      <td>1.251884</td>\n",
       "      <td>0.317369</td>\n",
       "    </tr>\n",
       "    <tr>\n",
       "      <th>31</th>\n",
       "      <td>-0.444581</td>\n",
       "      <td>-0.443510</td>\n",
       "      <td>-0.512189</td>\n",
       "      <td>-0.421396</td>\n",
       "      <td>-0.444316</td>\n",
       "    </tr>\n",
       "    <tr>\n",
       "      <th>77</th>\n",
       "      <td>-0.607170</td>\n",
       "      <td>-0.584638</td>\n",
       "      <td>-0.626342</td>\n",
       "      <td>-0.620005</td>\n",
       "      <td>-0.591425</td>\n",
       "    </tr>\n",
       "    <tr>\n",
       "      <th>79</th>\n",
       "      <td>-0.560514</td>\n",
       "      <td>-0.526382</td>\n",
       "      <td>-0.521702</td>\n",
       "      <td>-0.597662</td>\n",
       "      <td>-0.552214</td>\n",
       "    </tr>\n",
       "    <tr>\n",
       "      <th>70</th>\n",
       "      <td>-0.617033</td>\n",
       "      <td>-0.622887</td>\n",
       "      <td>-0.735739</td>\n",
       "      <td>-0.629936</td>\n",
       "      <td>-0.620865</td>\n",
       "    </tr>\n",
       "  </tbody>\n",
       "</table>\n",
       "</div>"
      ],
      "text/plain": [
       "    Video Views     Likes  Comments    Shares  Unique Viewers\n",
       "71    -0.629974 -0.623181 -0.726226 -0.639866       -0.627373\n",
       "62     0.606175  0.729845  0.681661  0.008095        0.743245\n",
       "29    -0.411971 -0.443706 -0.578779 -0.433809       -0.403068\n",
       "53    -0.601469 -0.570711 -0.702444 -0.615040       -0.578463\n",
       "88    -0.191301 -0.319643 -0.540728 -0.468566       -0.147178\n",
       "4      0.179018  0.137283  0.691174  1.251884        0.317369\n",
       "31    -0.444581 -0.443510 -0.512189 -0.421396       -0.444316\n",
       "77    -0.607170 -0.584638 -0.626342 -0.620005       -0.591425\n",
       "79    -0.560514 -0.526382 -0.521702 -0.597662       -0.552214\n",
       "70    -0.617033 -0.622887 -0.735739 -0.629936       -0.620865"
      ]
     },
     "execution_count": 13,
     "metadata": {},
     "output_type": "execute_result"
    }
   ],
   "source": [
    "x_test"
   ]
  },
  {
   "cell_type": "code",
   "execution_count": 14,
   "id": "7bca9f91",
   "metadata": {
    "scrolled": false
   },
   "outputs": [
    {
     "data": {
      "text/plain": [
       "array([ 308.65118053, 1914.33572576,  929.81878155,  208.93132616,\n",
       "       1283.08342061, 2329.63164492,  845.77173119,  218.5352271 ,\n",
       "        327.15755517,  413.76807753])"
      ]
     },
     "execution_count": 14,
     "metadata": {},
     "output_type": "execute_result"
    }
   ],
   "source": [
    "y_pred"
   ]
  },
  {
   "cell_type": "code",
   "execution_count": 15,
   "id": "e306ff65",
   "metadata": {},
   "outputs": [
    {
     "data": {
      "text/plain": [
       "71     318\n",
       "62    2443\n",
       "29     819\n",
       "53     365\n",
       "88    1095\n",
       "4     2076\n",
       "31     752\n",
       "77     343\n",
       "79     618\n",
       "70     435\n",
       "Name: Profile Views, dtype: int64"
      ]
     },
     "execution_count": 15,
     "metadata": {},
     "output_type": "execute_result"
    }
   ],
   "source": [
    "y_test"
   ]
  },
  {
   "cell_type": "code",
   "execution_count": 16,
   "id": "d9ecf830",
   "metadata": {},
   "outputs": [
    {
     "data": {
      "text/plain": [
       "229.18"
      ]
     },
     "execution_count": 16,
     "metadata": {},
     "output_type": "execute_result"
    }
   ],
   "source": [
    "rmse = np.mean((y_test - y_pred) ** 2) ** 0.5\n",
    "rmse.round(2)"
   ]
  },
  {
   "cell_type": "markdown",
   "id": "5d5b234f",
   "metadata": {},
   "source": [
    "# Define Gradient Descent\n"
   ]
  },
  {
   "cell_type": "code",
   "execution_count": 343,
   "id": "084efbb9",
   "metadata": {},
   "outputs": [
    {
     "data": {
      "text/plain": [
       "(82, 5)"
      ]
     },
     "execution_count": 343,
     "metadata": {},
     "output_type": "execute_result"
    }
   ],
   "source": [
    "m = x_train.shape\n",
    "m"
   ]
  },
  {
   "cell_type": "code",
   "execution_count": 344,
   "id": "f91a21a2",
   "metadata": {},
   "outputs": [
    {
     "data": {
      "text/plain": [
       "(5,)"
      ]
     },
     "execution_count": 344,
     "metadata": {},
     "output_type": "execute_result"
    }
   ],
   "source": [
    "w.shape"
   ]
  },
  {
   "cell_type": "code",
   "execution_count": 345,
   "id": "47816fc6",
   "metadata": {},
   "outputs": [],
   "source": [
    "def compute_cost(x_train, y_train, w, b): \n",
    "    m = x_train.shape[0]  # Number of training examples\n",
    "    cost_sum = 0\n",
    "    \n",
    "    for i in range(m): \n",
    "        y_pred = np.dot(x_train.iloc[i], w) + b\n",
    "        cost = (y_pred - y_train.iloc[i]) ** 2  \n",
    "        cost_sum += cost\n",
    "    total_cost = (1 / (2 * m)) * cost_sum\n",
    "    return total_cost"
   ]
  },
  {
   "cell_type": "code",
   "execution_count": 346,
   "id": "2376810b",
   "metadata": {},
   "outputs": [
    {
     "data": {
      "text/plain": [
       "array([6207969.3])"
      ]
     },
     "execution_count": 346,
     "metadata": {},
     "output_type": "execute_result"
    }
   ],
   "source": [
    "w = np.zeros((5, 1))  # Initialize w as a zero matrix of shape (5, 1)\n",
    "b = 0\n",
    "compute_cost(x_train, y_train, w, b).round(1)"
   ]
  },
  {
   "cell_type": "code",
   "execution_count": 347,
   "id": "6b99fa85",
   "metadata": {},
   "outputs": [],
   "source": [
    "def compute_gradient(x_train, y_train, w, b):\n",
    "    m = x_train.shape[0]  # Number of training examples\n",
    "    dj_dw = np.zeros(w.shape)  # Ensure dj_dw has the same shape as w array (5,1)\n",
    "    dj_db = 0\n",
    "    \n",
    "    for i in range(m):  \n",
    "        y_pred = np.dot(x_train.iloc[i], w) + b\n",
    "        dj_dw_i = (y_pred - y_train.iloc[i]) * x_train.iloc[i].values.reshape(-1,1) #1st derivative\n",
    "        dj_db_i = y_pred - y_train.iloc[i] #2 derivative\n",
    "        dj_db += dj_db_i \n",
    "        dj_dw += dj_dw_i \n",
    "    dj_dw = dj_dw / m \n",
    "    dj_db = dj_db / m \n",
    "        \n",
    "    return dj_dw, dj_db"
   ]
  },
  {
   "cell_type": "code",
   "execution_count": 348,
   "id": "1b2b0286",
   "metadata": {},
   "outputs": [],
   "source": [
    "def gradient_descent(x_train, y_train, w_init, b_init, alpha, iterations, compute_cost, compute_gradient): # implementation\n",
    "    b = b_init \n",
    "    w = w_init\n",
    "    \n",
    "    for i in range(iterations): \n",
    "        dj_dw, dj_db = compute_gradient(x_train, y_train, w , b)     \n",
    "\n",
    "        b = b - alpha * dj_db                            \n",
    "        w = w - alpha * dj_dw \n",
    "    return w, b"
   ]
  },
  {
   "cell_type": "code",
   "execution_count": 349,
   "id": "dbbffcef",
   "metadata": {},
   "outputs": [
    {
     "name": "stdout",
     "output_type": "stream",
     "text": [
      "[[1545.]\n",
      " [ 545.]\n",
      " [ 252.]\n",
      " [  84.]\n",
      " [  98.]] [2020.]\n"
     ]
    }
   ],
   "source": [
    "w_init = np.zeros((5, 1))\n",
    "b_init = 0\n",
    "\n",
    "iterations = 10000\n",
    "tmp_alpha = 0.001\n",
    "\n",
    "w_final, b_final = gradient_descent(x_train ,y_train, w_init, b_init, tmp_alpha, \n",
    "                                    iterations, compute_cost, compute_gradient)\n",
    "print(w_final.round(0), b_final.round(0))"
   ]
  },
  {
   "cell_type": "markdown",
   "id": "eb144884",
   "metadata": {},
   "source": [
    "# Define Gradient Descent (Lasso Regression)"
   ]
  },
  {
   "cell_type": "code",
   "execution_count": 20,
   "id": "4f0371c0",
   "metadata": {},
   "outputs": [],
   "source": [
    "def compute_cost_lasso(x_train, y_train, w, b, lambda_): \n",
    "    m = x_train.shape[0]  # Number of training examples\n",
    "    cost_sum = 0\n",
    "    for i in range(m): \n",
    "        y_pred = np.dot(x_train.iloc[i], w) + b\n",
    "        cost = (y_pred - y_train.iloc[i]) ** 2  \n",
    "        cost_sum += cost\n",
    "    total_cost = (1 / (2 * m)) * cost_sum + (lambda_ / (2 * m)) * np.sum(np.abs(w))\n",
    "    return total_cost\n"
   ]
  },
  {
   "cell_type": "code",
   "execution_count": 21,
   "id": "cb4e912b",
   "metadata": {},
   "outputs": [],
   "source": [
    "def compute_gradient_lasso(x_train, y_train, w, b, lambda_):\n",
    "    m = x_train.shape[0]\n",
    "    dj_dw = np.zeros(w.shape)\n",
    "    dj_db = 0\n",
    "\n",
    "    for i in range(m):  \n",
    "        y_pred = np.dot(x_train.iloc[i], w) + b\n",
    "        dj_dw_i = (y_pred - y_train.iloc[i]) * x_train.iloc[i].values.reshape(-1,1)\n",
    "        dj_db_i = y_pred - y_train.iloc[i]\n",
    "        dj_db += dj_db_i \n",
    "        dj_dw += dj_dw_i \n",
    "\n",
    "    dj_dw = dj_dw / m + lambda_ * np.sign(w) / m\n",
    "    dj_db = dj_db / m\n",
    "\n",
    "    return dj_dw, dj_db"
   ]
  },
  {
   "cell_type": "code",
   "execution_count": 22,
   "id": "2119bf6a",
   "metadata": {},
   "outputs": [],
   "source": [
    "def gradient_descent_lasso(x_train, y_train, w_init, b_init, alpha, iterations, lambda_, compute_cost_lasso, compute_gradient_lasso):\n",
    "    b = b_init \n",
    "    w = w_init\n",
    "\n",
    "    for i in range(iterations): \n",
    "        dj_dw, dj_db = compute_gradient_lasso(x_train, y_train, w, b, lambda_)\n",
    "\n",
    "        b = b - alpha * dj_db\n",
    "        w = w - alpha * dj_dw\n",
    "    return w, b"
   ]
  },
  {
   "cell_type": "code",
   "execution_count": 23,
   "id": "77d02753",
   "metadata": {},
   "outputs": [
    {
     "name": "stdout",
     "output_type": "stream",
     "text": [
      "[[1545.]\n",
      " [ 545.]\n",
      " [ 252.]\n",
      " [  84.]\n",
      " [  98.]] [2020.]\n"
     ]
    }
   ],
   "source": [
    "w_init = np.zeros((5, 1))\n",
    "b_init = 0\n",
    "\n",
    "lambda_ = 10\n",
    "iterations = 10000\n",
    "tmp_alpha = 0.001\n",
    "\n",
    "w_final, b_final = gradient_descent_lasso(x_train, y_train, w_init, b_init, tmp_alpha, iterations, lambda_, compute_cost_lasso, compute_gradient_lasso)\n",
    "\n",
    "print(w_final.round(0), b_final.round(0))"
   ]
  },
  {
   "cell_type": "markdown",
   "id": "195bb457",
   "metadata": {},
   "source": [
    "## Compute Error Epsilon"
   ]
  },
  {
   "cell_type": "code",
   "execution_count": 27,
   "id": "484e9344",
   "metadata": {},
   "outputs": [],
   "source": [
    "def compute_rmse(y_test, y_pred):\n",
    "    rmse = np.mean((y_test - y_pred) ** 2) ** 0.5\n",
    "    return rmse"
   ]
  },
  {
   "cell_type": "code",
   "execution_count": 60,
   "id": "d084db95",
   "metadata": {},
   "outputs": [
    {
     "name": "stdout",
     "output_type": "stream",
     "text": [
      "(10, 5)\n",
      "(5, 1)\n",
      "(10,)\n"
     ]
    }
   ],
   "source": [
    "print(x_test.shape)\n",
    "print(w_final.shape)\n",
    "print(y_test.shape)"
   ]
  },
  {
   "cell_type": "code",
   "execution_count": 42,
   "id": "c7832273",
   "metadata": {
    "scrolled": true
   },
   "outputs": [
    {
     "name": "stdout",
     "output_type": "stream",
     "text": [
      "[[ 408.47]\n",
      " [3600.06]\n",
      " [ 919.68]\n",
      " [ 494.  ]\n",
      " [1360.03]\n",
      " [2682.44]\n",
      " [ 883.19]\n",
      " [ 495.11]\n",
      " [ 631.07]\n",
      " [ 427.7 ]]\n"
     ]
    }
   ],
   "source": [
    "y_pred = np.dot(x_test, w_final) + b_final\n",
    "y_pred.ravel()\n",
    "print (y_pred.round(2))"
   ]
  },
  {
   "cell_type": "code",
   "execution_count": 55,
   "id": "99d5b3ab",
   "metadata": {},
   "outputs": [
    {
     "data": {
      "text/plain": [
       "(10,)"
      ]
     },
     "execution_count": 55,
     "metadata": {},
     "output_type": "execute_result"
    }
   ],
   "source": [
    "y_pred = y_pred.ravel()\n",
    "y_pred.shape"
   ]
  },
  {
   "cell_type": "code",
   "execution_count": 58,
   "id": "cacab0bf",
   "metadata": {
    "scrolled": true
   },
   "outputs": [
    {
     "name": "stdout",
     "output_type": "stream",
     "text": [
      "430.0\n"
     ]
    }
   ],
   "source": [
    "rmse = compute_rmse(y_test, y_pred)\n",
    "print (rmse.round(0))"
   ]
  },
  {
   "cell_type": "code",
   "execution_count": 89,
   "id": "732e2254",
   "metadata": {
    "scrolled": true
   },
   "outputs": [
    {
     "data": {
      "text/plain": [
       "Text(0.5, 0.98, 'Residual Plots for Each Predictor')"
      ]
     },
     "execution_count": 89,
     "metadata": {},
     "output_type": "execute_result"
    },
    {
     "data": {
      "image/png": "[encoded data removed]",
      "text/plain": [
       "<Figure size 1500x1000 with 5 Axes>"
      ]
     },
     "metadata": {},
     "output_type": "display_data"
    }
   ],
   "source": [
    "\n",
    "residuals = y_test - y_pred\n",
    "\n",
    "fig1, (ax1, ax2, ax3, ax4, ax5) = plt.subplots(1,5,figsize=(15, 10), sharey = True)\n",
    "\n",
    "ax1.scatter(x_test['Video Views'],residuals, color = 'red')\n",
    "ax2.scatter(x_test['Likes'], residuals, color = 'green')\n",
    "ax3.scatter(x_test['Comments'], residuals, color= 'blue')\n",
    "ax4.scatter(x_test['Shares'], residuals, color = 'orange')\n",
    "ax5.scatter(x_test['Unique Viewers'], residuals, color = 'purple')\n",
    "\n",
    "ax1.set_ylabel('Residuals')\n",
    "ax1.set_xlabel('Video Views')\n",
    "ax2.set_xlabel('Likes')\n",
    "ax3.set_xlabel('Comments')\n",
    "ax4.set_xlabel('Shares')\n",
    "ax5.set_xlabel('Unique Viewers')\n",
    "\n",
    "fig1.suptitle('Residual Plots for Each Predictor')\n"
   ]
  },
  {
   "cell_type": "code",
   "execution_count": 94,
   "id": "cae04166",
   "metadata": {},
   "outputs": [
    {
     "data": {
      "image/png": "[encoded data removed]",
      "text/plain": [
       "<Figure size 1000x600 with 1 Axes>"
      ]
     },
     "metadata": {},
     "output_type": "display_data"
    }
   ],
   "source": [
    "plt.figure(figsize=(10, 6))\n",
    "sns.histplot(residuals, kde=True)\n",
    "plt.title('Histogram of Residuals')\n",
    "plt.savefig('Histogram of Residuals.png')"
   ]
  },
  {
   "cell_type": "code",
   "execution_count": null,
   "id": "3e811ab8",
   "metadata": {},
   "outputs": [],
   "source": []
  }
 ],
 "metadata": {
  "kernelspec": {
   "display_name": "Python 3 (ipykernel)",
   "language": "python",
   "name": "python3"
  },
  "language_info": {
   "codemirror_mode": {
    "name": "ipython",
    "version": 3
   },
   "file_extension": ".py",
   "mimetype": "text/x-python",
   "name": "python",
   "nbconvert_exporter": "python",
   "pygments_lexer": "ipython3",
   "version": "3.11.4"
  }
 },
 "nbformat": 4,
 "nbformat_minor": 5
}
