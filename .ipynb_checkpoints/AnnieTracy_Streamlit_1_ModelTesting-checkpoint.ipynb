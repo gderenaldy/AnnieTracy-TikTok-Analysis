{
 "cells": [
  {
   "cell_type": "code",
   "execution_count": 53,
   "id": "696401c5",
   "metadata": {},
   "outputs": [],
   "source": [
    "import numpy as np\n",
    "import pandas as pd\n",
    "import matplotlib.pyplot as plt\n",
    "import seaborn as sns\n",
    "import streamlit as st \n",
    "from sklearn.linear_model import LinearRegression, LassoCV\n",
    "from sklearn.model_selection import train_test_split"
   ]
  },
  {
   "cell_type": "code",
   "execution_count": 120,
   "id": "b07fb570",
   "metadata": {},
   "outputs": [],
   "source": [
    "tk_data = pd.read_csv('~/Desktop/CraftIQ/GitHub/AnnieTracy-TikTok-Analysis/Data/z_RegressionSocialData.csv')\n",
    "x = tk_data.drop('Profile Views', axis =1)\n",
    "y = tk_data['Profile Views']\n",
    "x_train, x_test, y_train, y_test = train_test_split(x,y, test_size = 0.5, random_state = 123)"
   ]
  },
  {
   "cell_type": "code",
   "execution_count": 121,
   "id": "f9a40797",
   "metadata": {},
   "outputs": [
    {
     "data": {
      "text/html": [
       "<div>\n",
       "<style scoped>\n",
       "    .dataframe tbody tr th:only-of-type {\n",
       "        vertical-align: middle;\n",
       "    }\n",
       "\n",
       "    .dataframe tbody tr th {\n",
       "        vertical-align: top;\n",
       "    }\n",
       "\n",
       "    .dataframe thead th {\n",
       "        text-align: right;\n",
       "    }\n",
       "</style>\n",
       "<table border=\"1\" class=\"dataframe\">\n",
       "  <thead>\n",
       "    <tr style=\"text-align: right;\">\n",
       "      <th></th>\n",
       "      <th>Video Views</th>\n",
       "      <th>Likes</th>\n",
       "      <th>Comments</th>\n",
       "      <th>Shares</th>\n",
       "      <th>Unique Viewers</th>\n",
       "    </tr>\n",
       "  </thead>\n",
       "  <tbody>\n",
       "    <tr>\n",
       "      <th>23</th>\n",
       "      <td>-0.481190</td>\n",
       "      <td>-0.452231</td>\n",
       "      <td>-0.366027</td>\n",
       "      <td>-0.489695</td>\n",
       "      <td>-0.509134</td>\n",
       "    </tr>\n",
       "    <tr>\n",
       "      <th>41</th>\n",
       "      <td>-0.794207</td>\n",
       "      <td>-0.714367</td>\n",
       "      <td>-0.713810</td>\n",
       "      <td>-0.694715</td>\n",
       "      <td>-0.791557</td>\n",
       "    </tr>\n",
       "    <tr>\n",
       "      <th>30</th>\n",
       "      <td>-0.585437</td>\n",
       "      <td>-0.565779</td>\n",
       "      <td>-0.719807</td>\n",
       "      <td>-0.638260</td>\n",
       "      <td>-0.564190</td>\n",
       "    </tr>\n",
       "    <tr>\n",
       "      <th>16</th>\n",
       "      <td>-0.408100</td>\n",
       "      <td>-0.438687</td>\n",
       "      <td>-0.440980</td>\n",
       "      <td>-0.440669</td>\n",
       "      <td>-0.503415</td>\n",
       "    </tr>\n",
       "    <tr>\n",
       "      <th>0</th>\n",
       "      <td>2.029236</td>\n",
       "      <td>2.320232</td>\n",
       "      <td>3.087820</td>\n",
       "      <td>2.937698</td>\n",
       "      <td>1.997029</td>\n",
       "    </tr>\n",
       "    <tr>\n",
       "      <th>4</th>\n",
       "      <td>-0.115353</td>\n",
       "      <td>-0.217105</td>\n",
       "      <td>0.113674</td>\n",
       "      <td>0.401694</td>\n",
       "      <td>0.028433</td>\n",
       "    </tr>\n",
       "    <tr>\n",
       "      <th>29</th>\n",
       "      <td>-0.667833</td>\n",
       "      <td>-0.703815</td>\n",
       "      <td>-0.716808</td>\n",
       "      <td>-0.730371</td>\n",
       "      <td>-0.689276</td>\n",
       "    </tr>\n",
       "    <tr>\n",
       "      <th>14</th>\n",
       "      <td>0.329885</td>\n",
       "      <td>0.370791</td>\n",
       "      <td>0.119670</td>\n",
       "      <td>0.033253</td>\n",
       "      <td>0.332505</td>\n",
       "    </tr>\n",
       "    <tr>\n",
       "      <th>40</th>\n",
       "      <td>-0.762475</td>\n",
       "      <td>-0.698697</td>\n",
       "      <td>-0.728801</td>\n",
       "      <td>-0.724428</td>\n",
       "      <td>-0.759091</td>\n",
       "    </tr>\n",
       "    <tr>\n",
       "      <th>25</th>\n",
       "      <td>-0.626043</td>\n",
       "      <td>-0.582000</td>\n",
       "      <td>-0.527926</td>\n",
       "      <td>-0.598148</td>\n",
       "      <td>-0.619691</td>\n",
       "    </tr>\n",
       "    <tr>\n",
       "      <th>35</th>\n",
       "      <td>-0.794494</td>\n",
       "      <td>-0.732556</td>\n",
       "      <td>-0.755784</td>\n",
       "      <td>-0.719971</td>\n",
       "      <td>-0.791361</td>\n",
       "    </tr>\n",
       "    <tr>\n",
       "      <th>37</th>\n",
       "      <td>-0.414786</td>\n",
       "      <td>-0.354905</td>\n",
       "      <td>-0.467964</td>\n",
       "      <td>-0.485238</td>\n",
       "      <td>-0.434878</td>\n",
       "    </tr>\n",
       "    <tr>\n",
       "      <th>9</th>\n",
       "      <td>2.389425</td>\n",
       "      <td>1.930454</td>\n",
       "      <td>1.387879</td>\n",
       "      <td>1.151947</td>\n",
       "      <td>1.502069</td>\n",
       "    </tr>\n",
       "    <tr>\n",
       "      <th>32</th>\n",
       "      <td>0.018935</td>\n",
       "      <td>-0.286083</td>\n",
       "      <td>-0.590887</td>\n",
       "      <td>-0.451068</td>\n",
       "      <td>0.309186</td>\n",
       "    </tr>\n",
       "    <tr>\n",
       "      <th>33</th>\n",
       "      <td>-0.762884</td>\n",
       "      <td>-0.732714</td>\n",
       "      <td>-0.797758</td>\n",
       "      <td>-0.727399</td>\n",
       "      <td>-0.750726</td>\n",
       "    </tr>\n",
       "    <tr>\n",
       "      <th>22</th>\n",
       "      <td>-0.522360</td>\n",
       "      <td>-0.507745</td>\n",
       "      <td>-0.476958</td>\n",
       "      <td>-0.540207</td>\n",
       "      <td>-0.546803</td>\n",
       "    </tr>\n",
       "    <tr>\n",
       "      <th>19</th>\n",
       "      <td>-0.200678</td>\n",
       "      <td>-0.116471</td>\n",
       "      <td>-0.336046</td>\n",
       "      <td>-0.308446</td>\n",
       "      <td>-0.245679</td>\n",
       "    </tr>\n",
       "    <tr>\n",
       "      <th>17</th>\n",
       "      <td>-0.162923</td>\n",
       "      <td>-0.134818</td>\n",
       "      <td>-0.252098</td>\n",
       "      <td>-0.315874</td>\n",
       "      <td>-0.223194</td>\n",
       "    </tr>\n",
       "    <tr>\n",
       "      <th>38</th>\n",
       "      <td>-0.600788</td>\n",
       "      <td>-0.526486</td>\n",
       "      <td>-0.563904</td>\n",
       "      <td>-0.596662</td>\n",
       "      <td>-0.608698</td>\n",
       "    </tr>\n",
       "    <tr>\n",
       "      <th>34</th>\n",
       "      <td>-0.780645</td>\n",
       "      <td>-0.735864</td>\n",
       "      <td>-0.755784</td>\n",
       "      <td>-0.736313</td>\n",
       "      <td>-0.780492</td>\n",
       "    </tr>\n",
       "    <tr>\n",
       "      <th>28</th>\n",
       "      <td>-0.638068</td>\n",
       "      <td>-0.632710</td>\n",
       "      <td>-0.596883</td>\n",
       "      <td>-0.563978</td>\n",
       "      <td>-0.689773</td>\n",
       "    </tr>\n",
       "    <tr>\n",
       "      <th>2</th>\n",
       "      <td>0.359395</td>\n",
       "      <td>0.319135</td>\n",
       "      <td>1.312926</td>\n",
       "      <td>1.469876</td>\n",
       "      <td>0.474694</td>\n",
       "    </tr>\n",
       "    <tr>\n",
       "      <th>45</th>\n",
       "      <td>-0.794339</td>\n",
       "      <td>-0.710430</td>\n",
       "      <td>-0.674835</td>\n",
       "      <td>-0.724428</td>\n",
       "      <td>-0.768078</td>\n",
       "    </tr>\n",
       "  </tbody>\n",
       "</table>\n",
       "</div>"
      ],
      "text/plain": [
       "    Video Views     Likes  Comments    Shares  Unique Viewers\n",
       "23    -0.481190 -0.452231 -0.366027 -0.489695       -0.509134\n",
       "41    -0.794207 -0.714367 -0.713810 -0.694715       -0.791557\n",
       "30    -0.585437 -0.565779 -0.719807 -0.638260       -0.564190\n",
       "16    -0.408100 -0.438687 -0.440980 -0.440669       -0.503415\n",
       "0      2.029236  2.320232  3.087820  2.937698        1.997029\n",
       "4     -0.115353 -0.217105  0.113674  0.401694        0.028433\n",
       "29    -0.667833 -0.703815 -0.716808 -0.730371       -0.689276\n",
       "14     0.329885  0.370791  0.119670  0.033253        0.332505\n",
       "40    -0.762475 -0.698697 -0.728801 -0.724428       -0.759091\n",
       "25    -0.626043 -0.582000 -0.527926 -0.598148       -0.619691\n",
       "35    -0.794494 -0.732556 -0.755784 -0.719971       -0.791361\n",
       "37    -0.414786 -0.354905 -0.467964 -0.485238       -0.434878\n",
       "9      2.389425  1.930454  1.387879  1.151947        1.502069\n",
       "32     0.018935 -0.286083 -0.590887 -0.451068        0.309186\n",
       "33    -0.762884 -0.732714 -0.797758 -0.727399       -0.750726\n",
       "22    -0.522360 -0.507745 -0.476958 -0.540207       -0.546803\n",
       "19    -0.200678 -0.116471 -0.336046 -0.308446       -0.245679\n",
       "17    -0.162923 -0.134818 -0.252098 -0.315874       -0.223194\n",
       "38    -0.600788 -0.526486 -0.563904 -0.596662       -0.608698\n",
       "34    -0.780645 -0.735864 -0.755784 -0.736313       -0.780492\n",
       "28    -0.638068 -0.632710 -0.596883 -0.563978       -0.689773\n",
       "2      0.359395  0.319135  1.312926  1.469876        0.474694\n",
       "45    -0.794339 -0.710430 -0.674835 -0.724428       -0.768078"
      ]
     },
     "execution_count": 121,
     "metadata": {},
     "output_type": "execute_result"
    }
   ],
   "source": [
    "x_train_p = np.array(x_train)\n",
    "x_train"
   ]
  },
  {
   "cell_type": "code",
   "execution_count": 122,
   "id": "f10ca180",
   "metadata": {},
   "outputs": [],
   "source": [
    "y_train_p = np.array(y_train).ravel()"
   ]
  },
  {
   "cell_type": "code",
   "execution_count": 123,
   "id": "2b24f8c0",
   "metadata": {},
   "outputs": [
    {
     "data": {
      "text/plain": [
       "23     1714\n",
       "41      796\n",
       "30     1374\n",
       "16     2174\n",
       "0      9329\n",
       "4      2266\n",
       "29     1405\n",
       "14     3660\n",
       "40      843\n",
       "25     1297\n",
       "35      752\n",
       "37     2016\n",
       "9     17480\n",
       "32     1524\n",
       "33      819\n",
       "22     1535\n",
       "19     2444\n",
       "17     2594\n",
       "38     1383\n",
       "34      784\n",
       "28     1586\n",
       "2      4077\n",
       "45      678\n",
       "Name: Profile Views, dtype: int64"
      ]
     },
     "execution_count": 123,
     "metadata": {},
     "output_type": "execute_result"
    }
   ],
   "source": [
    "y_train"
   ]
  },
  {
   "cell_type": "code",
   "execution_count": 124,
   "id": "cf87d469",
   "metadata": {
    "scrolled": true
   },
   "outputs": [
    {
     "data": {
      "text/plain": [
       "24"
      ]
     },
     "execution_count": 124,
     "metadata": {},
     "output_type": "execute_result"
    }
   ],
   "source": [
    "y_test.count()"
   ]
  },
  {
   "cell_type": "code",
   "execution_count": 125,
   "id": "0b2fd346",
   "metadata": {
    "scrolled": true
   },
   "outputs": [
    {
     "data": {
      "text/plain": [
       "Video Views       24\n",
       "Likes             24\n",
       "Comments          24\n",
       "Shares            24\n",
       "Unique Viewers    24\n",
       "dtype: int64"
      ]
     },
     "execution_count": 125,
     "metadata": {},
     "output_type": "execute_result"
    }
   ],
   "source": [
    "x_test.count()"
   ]
  },
  {
   "cell_type": "code",
   "execution_count": 126,
   "id": "698fdc9b",
   "metadata": {},
   "outputs": [
    {
     "data": {
      "text/plain": [
       "Video Views       23\n",
       "Likes             23\n",
       "Comments          23\n",
       "Shares            23\n",
       "Unique Viewers    23\n",
       "dtype: int64"
      ]
     },
     "execution_count": 126,
     "metadata": {},
     "output_type": "execute_result"
    }
   ],
   "source": [
    "x_train.count()"
   ]
  },
  {
   "cell_type": "code",
   "execution_count": 127,
   "id": "106c7034",
   "metadata": {},
   "outputs": [
    {
     "data": {
      "text/html": [
       "<style>#sk-container-id-6 {color: black;}#sk-container-id-6 pre{padding: 0;}#sk-container-id-6 div.sk-toggleable {background-color: white;}#sk-container-id-6 label.sk-toggleable__label {cursor: pointer;display: block;width: 100%;margin-bottom: 0;padding: 0.3em;box-sizing: border-box;text-align: center;}#sk-container-id-6 label.sk-toggleable__label-arrow:before {content: \"▸\";float: left;margin-right: 0.25em;color: #696969;}#sk-container-id-6 label.sk-toggleable__label-arrow:hover:before {color: black;}#sk-container-id-6 div.sk-estimator:hover label.sk-toggleable__label-arrow:before {color: black;}#sk-container-id-6 div.sk-toggleable__content {max-height: 0;max-width: 0;overflow: hidden;text-align: left;background-color: #f0f8ff;}#sk-container-id-6 div.sk-toggleable__content pre {margin: 0.2em;color: black;border-radius: 0.25em;background-color: #f0f8ff;}#sk-container-id-6 input.sk-toggleable__control:checked~div.sk-toggleable__content {max-height: 200px;max-width: 100%;overflow: auto;}#sk-container-id-6 input.sk-toggleable__control:checked~label.sk-toggleable__label-arrow:before {content: \"▾\";}#sk-container-id-6 div.sk-estimator input.sk-toggleable__control:checked~label.sk-toggleable__label {background-color: #d4ebff;}#sk-container-id-6 div.sk-label input.sk-toggleable__control:checked~label.sk-toggleable__label {background-color: #d4ebff;}#sk-container-id-6 input.sk-hidden--visually {border: 0;clip: rect(1px 1px 1px 1px);clip: rect(1px, 1px, 1px, 1px);height: 1px;margin: -1px;overflow: hidden;padding: 0;position: absolute;width: 1px;}#sk-container-id-6 div.sk-estimator {font-family: monospace;background-color: #f0f8ff;border: 1px dotted black;border-radius: 0.25em;box-sizing: border-box;margin-bottom: 0.5em;}#sk-container-id-6 div.sk-estimator:hover {background-color: #d4ebff;}#sk-container-id-6 div.sk-parallel-item::after {content: \"\";width: 100%;border-bottom: 1px solid gray;flex-grow: 1;}#sk-container-id-6 div.sk-label:hover label.sk-toggleable__label {background-color: #d4ebff;}#sk-container-id-6 div.sk-serial::before {content: \"\";position: absolute;border-left: 1px solid gray;box-sizing: border-box;top: 0;bottom: 0;left: 50%;z-index: 0;}#sk-container-id-6 div.sk-serial {display: flex;flex-direction: column;align-items: center;background-color: white;padding-right: 0.2em;padding-left: 0.2em;position: relative;}#sk-container-id-6 div.sk-item {position: relative;z-index: 1;}#sk-container-id-6 div.sk-parallel {display: flex;align-items: stretch;justify-content: center;background-color: white;position: relative;}#sk-container-id-6 div.sk-item::before, #sk-container-id-6 div.sk-parallel-item::before {content: \"\";position: absolute;border-left: 1px solid gray;box-sizing: border-box;top: 0;bottom: 0;left: 50%;z-index: -1;}#sk-container-id-6 div.sk-parallel-item {display: flex;flex-direction: column;z-index: 1;position: relative;background-color: white;}#sk-container-id-6 div.sk-parallel-item:first-child::after {align-self: flex-end;width: 50%;}#sk-container-id-6 div.sk-parallel-item:last-child::after {align-self: flex-start;width: 50%;}#sk-container-id-6 div.sk-parallel-item:only-child::after {width: 0;}#sk-container-id-6 div.sk-dashed-wrapped {border: 1px dashed gray;margin: 0 0.4em 0.5em 0.4em;box-sizing: border-box;padding-bottom: 0.4em;background-color: white;}#sk-container-id-6 div.sk-label label {font-family: monospace;font-weight: bold;display: inline-block;line-height: 1.2em;}#sk-container-id-6 div.sk-label-container {text-align: center;}#sk-container-id-6 div.sk-container {/* jupyter's `normalize.less` sets `[hidden] { display: none; }` but bootstrap.min.css set `[hidden] { display: none !important; }` so we also need the `!important` here to be able to override the default hidden behavior on the sphinx rendered scikit-learn.org. See: https://github.com/scikit-learn/scikit-learn/issues/21755 */display: inline-block !important;position: relative;}#sk-container-id-6 div.sk-text-repr-fallback {display: none;}</style><div id=\"sk-container-id-6\" class=\"sk-top-container\"><div class=\"sk-text-repr-fallback\"><pre>LassoCV()</pre><b>In a Jupyter environment, please rerun this cell to show the HTML representation or trust the notebook. <br />On GitHub, the HTML representation is unable to render, please try loading this page with nbviewer.org.</b></div><div class=\"sk-container\" hidden><div class=\"sk-item\"><div class=\"sk-estimator sk-toggleable\"><input class=\"sk-toggleable__control sk-hidden--visually\" id=\"sk-estimator-id-6\" type=\"checkbox\" checked><label for=\"sk-estimator-id-6\" class=\"sk-toggleable__label sk-toggleable__label-arrow\">LassoCV</label><div class=\"sk-toggleable__content\"><pre>LassoCV()</pre></div></div></div></div></div>"
      ],
      "text/plain": [
       "LassoCV()"
      ]
     },
     "execution_count": 127,
     "metadata": {},
     "output_type": "execute_result"
    }
   ],
   "source": [
    "lasso_cv = LassoCV() #ls is the container for parameter m and c in y=mX+c\n",
    "\n",
    "lasso_cv.fit(x_train_p , y_train_p) #training part to get m and c"
   ]
  },
  {
   "cell_type": "code",
   "execution_count": 128,
   "id": "636b513a",
   "metadata": {},
   "outputs": [
    {
     "name": "stdout",
     "output_type": "stream",
     "text": [
      "3174.0\n",
      "[11687. -1848.     0.   390. -7188.]\n"
     ]
    }
   ],
   "source": [
    "c = lasso_cv.intercept_.round(0)\n",
    "\n",
    "m = lasso_cv.coef_.round(0)\n",
    "\n",
    "print(c)\n",
    "print(m)"
   ]
  },
  {
   "cell_type": "code",
   "execution_count": 129,
   "id": "f1b333b5",
   "metadata": {},
   "outputs": [],
   "source": [
    "y_pred = np.dot(x_test , m) + c #prediction of possible y_values to be compared with the actual y_values in y_test for error"
   ]
  },
  {
   "cell_type": "code",
   "execution_count": 130,
   "id": "7bca9f91",
   "metadata": {
    "scrolled": true
   },
   "outputs": [
    {
     "data": {
      "text/plain": [
       "array([13774.11811696,  9685.2700039 ,   564.26031012,  3465.44837674,\n",
       "         563.92337782,  2529.00375226,   684.06711331, 11518.91163384,\n",
       "        1849.84867277,  4555.3006025 ,  4044.42282162,  1340.13540438,\n",
       "        4521.52430035,  5951.10145653,  1605.22716321,  2747.15826773,\n",
       "        1792.45465483,  1480.94641285,  2953.15928196,   767.59152916,\n",
       "        5009.35768371,  1761.70801634,   356.3537343 ,  3130.39469606])"
      ]
     },
     "execution_count": 130,
     "metadata": {},
     "output_type": "execute_result"
    }
   ],
   "source": [
    "y_pred"
   ]
  },
  {
   "cell_type": "code",
   "execution_count": 131,
   "id": "bc38b14d",
   "metadata": {},
   "outputs": [
    {
     "data": {
      "text/plain": [
       "8     14960\n",
       "11     9930\n",
       "44      806\n",
       "18     3259\n",
       "43      712\n",
       "31     3023\n",
       "42      831\n",
       "10    12169\n",
       "5      2076\n",
       "1      5472\n",
       "6      4518\n",
       "26     1419\n",
       "13     4472\n",
       "12     6028\n",
       "24     1512\n",
       "36     2769\n",
       "21     1572\n",
       "27     1456\n",
       "15     2778\n",
       "39      954\n",
       "7      4788\n",
       "20     1674\n",
       "46      579\n",
       "3      3386\n",
       "Name: Profile Views, dtype: int64"
      ]
     },
     "execution_count": 131,
     "metadata": {},
     "output_type": "execute_result"
    }
   ],
   "source": [
    "y_test"
   ]
  },
  {
   "cell_type": "code",
   "execution_count": 132,
   "id": "0554782c",
   "metadata": {},
   "outputs": [
    {
     "data": {
      "text/plain": [
       "392.81"
      ]
     },
     "execution_count": 132,
     "metadata": {},
     "output_type": "execute_result"
    }
   ],
   "source": [
    "msre = np.mean((y_test - y_pred) ** 2) **0.5\n",
    "msre.round(3)"
   ]
  },
  {
   "cell_type": "code",
   "execution_count": null,
   "id": "fccce6fd",
   "metadata": {},
   "outputs": [],
   "source": []
  },
  {
   "cell_type": "code",
   "execution_count": null,
   "id": "be7d838b",
   "metadata": {},
   "outputs": [],
   "source": []
  }
 ],
 "metadata": {
  "kernelspec": {
   "display_name": "Python 3 (ipykernel)",
   "language": "python",
   "name": "python3"
  },
  "language_info": {
   "codemirror_mode": {
    "name": "ipython",
    "version": 3
   },
   "file_extension": ".py",
   "mimetype": "text/x-python",
   "name": "python",
   "nbconvert_exporter": "python",
   "pygments_lexer": "ipython3",
   "version": "3.11.4"
  }
 },
 "nbformat": 4,
 "nbformat_minor": 5
}
