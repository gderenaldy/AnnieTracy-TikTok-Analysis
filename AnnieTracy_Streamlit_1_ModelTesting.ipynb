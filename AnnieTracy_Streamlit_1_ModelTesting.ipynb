{
 "cells": [
  {
   "cell_type": "code",
   "execution_count": 95,
   "id": "696401c5",
   "metadata": {},
   "outputs": [],
   "source": [
    "import numpy as np\n",
    "import pandas as pd\n",
    "import matplotlib.pyplot as plt\n",
    "import seaborn as sns\n",
    "import streamlit as st \n",
    "from sklearn.linear_model import LinearRegression, LassoCV\n",
    "from sklearn.model_selection import train_test_split\n",
    "from sklearn.ensemble import RandomForestRegressor\n",
    "from sklearn.metrics import mean_squared_error"
   ]
  },
  {
   "cell_type": "code",
   "execution_count": 158,
   "id": "b07fb570",
   "metadata": {},
   "outputs": [],
   "source": [
    "tk_data = pd.read_csv('~/Desktop/CraftIQ/Projects/GitHub/AnnieTracy_Streamlit/Data/z_RegressionSocialData.csv')\n",
    "x = tk_data.drop('Profile Views', axis =1)\n",
    "y = tk_data['Profile Views']\n",
    "x_train, x_test, y_train, y_test = train_test_split(x,y, test_size = 0.2, random_state = 123)"
   ]
  },
  {
   "cell_type": "code",
   "execution_count": 159,
   "id": "f9a40797",
   "metadata": {},
   "outputs": [],
   "source": [
    "x_train_p = np.array(x_train)"
   ]
  },
  {
   "cell_type": "code",
   "execution_count": 160,
   "id": "f10ca180",
   "metadata": {},
   "outputs": [],
   "source": [
    "y_train_p = np.array(y_train).ravel()"
   ]
  },
  {
   "cell_type": "code",
   "execution_count": 161,
   "id": "cf87d469",
   "metadata": {
    "scrolled": true
   },
   "outputs": [
    {
     "data": {
      "text/plain": [
       "10"
      ]
     },
     "execution_count": 161,
     "metadata": {},
     "output_type": "execute_result"
    }
   ],
   "source": [
    "y_test.count()"
   ]
  },
  {
   "cell_type": "code",
   "execution_count": 162,
   "id": "0b2fd346",
   "metadata": {
    "scrolled": true
   },
   "outputs": [
    {
     "data": {
      "text/plain": [
       "Video Views       10\n",
       "Likes             10\n",
       "Comments          10\n",
       "Shares            10\n",
       "Unique Viewers    10\n",
       "dtype: int64"
      ]
     },
     "execution_count": 162,
     "metadata": {},
     "output_type": "execute_result"
    }
   ],
   "source": [
    "x_test.count()"
   ]
  },
  {
   "cell_type": "code",
   "execution_count": 163,
   "id": "698fdc9b",
   "metadata": {},
   "outputs": [
    {
     "data": {
      "text/plain": [
       "Video Views       37\n",
       "Likes             37\n",
       "Comments          37\n",
       "Shares            37\n",
       "Unique Viewers    37\n",
       "dtype: int64"
      ]
     },
     "execution_count": 163,
     "metadata": {},
     "output_type": "execute_result"
    }
   ],
   "source": [
    "x_train.count()"
   ]
  },
  {
   "cell_type": "code",
   "execution_count": 164,
   "id": "106c7034",
   "metadata": {},
   "outputs": [
    {
     "data": {
      "text/html": [
       "<style>#sk-container-id-12 {color: black;}#sk-container-id-12 pre{padding: 0;}#sk-container-id-12 div.sk-toggleable {background-color: white;}#sk-container-id-12 label.sk-toggleable__label {cursor: pointer;display: block;width: 100%;margin-bottom: 0;padding: 0.3em;box-sizing: border-box;text-align: center;}#sk-container-id-12 label.sk-toggleable__label-arrow:before {content: \"▸\";float: left;margin-right: 0.25em;color: #696969;}#sk-container-id-12 label.sk-toggleable__label-arrow:hover:before {color: black;}#sk-container-id-12 div.sk-estimator:hover label.sk-toggleable__label-arrow:before {color: black;}#sk-container-id-12 div.sk-toggleable__content {max-height: 0;max-width: 0;overflow: hidden;text-align: left;background-color: #f0f8ff;}#sk-container-id-12 div.sk-toggleable__content pre {margin: 0.2em;color: black;border-radius: 0.25em;background-color: #f0f8ff;}#sk-container-id-12 input.sk-toggleable__control:checked~div.sk-toggleable__content {max-height: 200px;max-width: 100%;overflow: auto;}#sk-container-id-12 input.sk-toggleable__control:checked~label.sk-toggleable__label-arrow:before {content: \"▾\";}#sk-container-id-12 div.sk-estimator input.sk-toggleable__control:checked~label.sk-toggleable__label {background-color: #d4ebff;}#sk-container-id-12 div.sk-label input.sk-toggleable__control:checked~label.sk-toggleable__label {background-color: #d4ebff;}#sk-container-id-12 input.sk-hidden--visually {border: 0;clip: rect(1px 1px 1px 1px);clip: rect(1px, 1px, 1px, 1px);height: 1px;margin: -1px;overflow: hidden;padding: 0;position: absolute;width: 1px;}#sk-container-id-12 div.sk-estimator {font-family: monospace;background-color: #f0f8ff;border: 1px dotted black;border-radius: 0.25em;box-sizing: border-box;margin-bottom: 0.5em;}#sk-container-id-12 div.sk-estimator:hover {background-color: #d4ebff;}#sk-container-id-12 div.sk-parallel-item::after {content: \"\";width: 100%;border-bottom: 1px solid gray;flex-grow: 1;}#sk-container-id-12 div.sk-label:hover label.sk-toggleable__label {background-color: #d4ebff;}#sk-container-id-12 div.sk-serial::before {content: \"\";position: absolute;border-left: 1px solid gray;box-sizing: border-box;top: 0;bottom: 0;left: 50%;z-index: 0;}#sk-container-id-12 div.sk-serial {display: flex;flex-direction: column;align-items: center;background-color: white;padding-right: 0.2em;padding-left: 0.2em;position: relative;}#sk-container-id-12 div.sk-item {position: relative;z-index: 1;}#sk-container-id-12 div.sk-parallel {display: flex;align-items: stretch;justify-content: center;background-color: white;position: relative;}#sk-container-id-12 div.sk-item::before, #sk-container-id-12 div.sk-parallel-item::before {content: \"\";position: absolute;border-left: 1px solid gray;box-sizing: border-box;top: 0;bottom: 0;left: 50%;z-index: -1;}#sk-container-id-12 div.sk-parallel-item {display: flex;flex-direction: column;z-index: 1;position: relative;background-color: white;}#sk-container-id-12 div.sk-parallel-item:first-child::after {align-self: flex-end;width: 50%;}#sk-container-id-12 div.sk-parallel-item:last-child::after {align-self: flex-start;width: 50%;}#sk-container-id-12 div.sk-parallel-item:only-child::after {width: 0;}#sk-container-id-12 div.sk-dashed-wrapped {border: 1px dashed gray;margin: 0 0.4em 0.5em 0.4em;box-sizing: border-box;padding-bottom: 0.4em;background-color: white;}#sk-container-id-12 div.sk-label label {font-family: monospace;font-weight: bold;display: inline-block;line-height: 1.2em;}#sk-container-id-12 div.sk-label-container {text-align: center;}#sk-container-id-12 div.sk-container {/* jupyter's `normalize.less` sets `[hidden] { display: none; }` but bootstrap.min.css set `[hidden] { display: none !important; }` so we also need the `!important` here to be able to override the default hidden behavior on the sphinx rendered scikit-learn.org. See: https://github.com/scikit-learn/scikit-learn/issues/21755 */display: inline-block !important;position: relative;}#sk-container-id-12 div.sk-text-repr-fallback {display: none;}</style><div id=\"sk-container-id-12\" class=\"sk-top-container\"><div class=\"sk-text-repr-fallback\"><pre>LassoCV()</pre><b>In a Jupyter environment, please rerun this cell to show the HTML representation or trust the notebook. <br />On GitHub, the HTML representation is unable to render, please try loading this page with nbviewer.org.</b></div><div class=\"sk-container\" hidden><div class=\"sk-item\"><div class=\"sk-estimator sk-toggleable\"><input class=\"sk-toggleable__control sk-hidden--visually\" id=\"sk-estimator-id-12\" type=\"checkbox\" checked><label for=\"sk-estimator-id-12\" class=\"sk-toggleable__label sk-toggleable__label-arrow\">LassoCV</label><div class=\"sk-toggleable__content\"><pre>LassoCV()</pre></div></div></div></div></div>"
      ],
      "text/plain": [
       "LassoCV()"
      ]
     },
     "execution_count": 164,
     "metadata": {},
     "output_type": "execute_result"
    }
   ],
   "source": [
    "lasso_cv = LassoCV() #ls is the container for parameter m and c in y=mX+c\n",
    "\n",
    "lasso_cv.fit(x_train_p , y_train_p) #training part to get m and c"
   ]
  },
  {
   "cell_type": "code",
   "execution_count": 168,
   "id": "636b513a",
   "metadata": {},
   "outputs": [
    {
     "name": "stdout",
     "output_type": "stream",
     "text": [
      "3189.0\n",
      "[11549. -1876.    -0.   463. -7074.]\n"
     ]
    }
   ],
   "source": [
    "c = lasso_cv.intercept_.round(0)\n",
    "\n",
    "m = lasso_cv.coef_.round(0)\n",
    "\n",
    "print(c)\n",
    "print(m)"
   ]
  },
  {
   "cell_type": "code",
   "execution_count": 149,
   "id": "f1b333b5",
   "metadata": {},
   "outputs": [],
   "source": [
    "y_pred_test = m*x_test + c"
   ]
  },
  {
   "cell_type": "code",
   "execution_count": 150,
   "id": "7bca9f91",
   "metadata": {},
   "outputs": [
    {
     "data": {
      "text/html": [
       "<div>\n",
       "<style scoped>\n",
       "    .dataframe tbody tr th:only-of-type {\n",
       "        vertical-align: middle;\n",
       "    }\n",
       "\n",
       "    .dataframe tbody tr th {\n",
       "        vertical-align: top;\n",
       "    }\n",
       "\n",
       "    .dataframe thead th {\n",
       "        text-align: right;\n",
       "    }\n",
       "</style>\n",
       "<table border=\"1\" class=\"dataframe\">\n",
       "  <thead>\n",
       "    <tr style=\"text-align: right;\">\n",
       "      <th></th>\n",
       "      <th>Video Views</th>\n",
       "      <th>Likes</th>\n",
       "      <th>Comments</th>\n",
       "      <th>Shares</th>\n",
       "      <th>Unique Viewers</th>\n",
       "    </tr>\n",
       "  </thead>\n",
       "  <tbody>\n",
       "    <tr>\n",
       "      <th>8</th>\n",
       "      <td>17008.790775</td>\n",
       "      <td>2588.165250</td>\n",
       "      <td>3235.911046</td>\n",
       "      <td>3387.350183</td>\n",
       "      <td>39.043159</td>\n",
       "    </tr>\n",
       "    <tr>\n",
       "      <th>11</th>\n",
       "      <td>32141.016435</td>\n",
       "      <td>-1427.247711</td>\n",
       "      <td>3235.911046</td>\n",
       "      <td>4168.074669</td>\n",
       "      <td>-15062.671900</td>\n",
       "    </tr>\n",
       "    <tr>\n",
       "      <th>44</th>\n",
       "      <td>-4926.338096</td>\n",
       "      <td>4303.502095</td>\n",
       "      <td>3235.911046</td>\n",
       "      <td>2904.143162</td>\n",
       "      <td>8005.071172</td>\n",
       "    </tr>\n",
       "    <tr>\n",
       "      <th>18</th>\n",
       "      <td>5077.638532</td>\n",
       "      <td>2976.974935</td>\n",
       "      <td>3235.911046</td>\n",
       "      <td>3138.153419</td>\n",
       "      <td>2037.225406</td>\n",
       "    </tr>\n",
       "    <tr>\n",
       "      <th>43</th>\n",
       "      <td>-5819.754081</td>\n",
       "      <td>4458.009473</td>\n",
       "      <td>3235.911046</td>\n",
       "      <td>2882.743994</td>\n",
       "      <td>8740.594011</td>\n",
       "    </tr>\n",
       "  </tbody>\n",
       "</table>\n",
       "</div>"
      ],
      "text/plain": [
       "     Video Views        Likes     Comments       Shares  Unique Viewers\n",
       "8   17008.790775  2588.165250  3235.911046  3387.350183       39.043159\n",
       "11  32141.016435 -1427.247711  3235.911046  4168.074669   -15062.671900\n",
       "44  -4926.338096  4303.502095  3235.911046  2904.143162     8005.071172\n",
       "18   5077.638532  2976.974935  3235.911046  3138.153419     2037.225406\n",
       "43  -5819.754081  4458.009473  3235.911046  2882.743994     8740.594011"
      ]
     },
     "execution_count": 150,
     "metadata": {},
     "output_type": "execute_result"
    }
   ],
   "source": [
    "y_pred_test"
   ]
  },
  {
   "cell_type": "code",
   "execution_count": 153,
   "id": "092d5652",
   "metadata": {},
   "outputs": [],
   "source": [
    "random_indices = np.random.choice(len(x_test), 5, replace=False)"
   ]
  },
  {
   "cell_type": "code",
   "execution_count": 154,
   "id": "d6cb84aa",
   "metadata": {},
   "outputs": [],
   "source": [
    "x_samples = x_train.iloc[random_indices]"
   ]
  },
  {
   "cell_type": "code",
   "execution_count": 155,
   "id": "4e5b84ca",
   "metadata": {},
   "outputs": [
    {
     "data": {
      "text/html": [
       "<div>\n",
       "<style scoped>\n",
       "    .dataframe tbody tr th:only-of-type {\n",
       "        vertical-align: middle;\n",
       "    }\n",
       "\n",
       "    .dataframe tbody tr th {\n",
       "        vertical-align: top;\n",
       "    }\n",
       "\n",
       "    .dataframe thead th {\n",
       "        text-align: right;\n",
       "    }\n",
       "</style>\n",
       "<table border=\"1\" class=\"dataframe\">\n",
       "  <thead>\n",
       "    <tr style=\"text-align: right;\">\n",
       "      <th></th>\n",
       "      <th>Video Views</th>\n",
       "      <th>Likes</th>\n",
       "      <th>Comments</th>\n",
       "      <th>Shares</th>\n",
       "      <th>Unique Viewers</th>\n",
       "    </tr>\n",
       "  </thead>\n",
       "  <tbody>\n",
       "    <tr>\n",
       "      <th>42</th>\n",
       "      <td>-0.793621</td>\n",
       "      <td>-0.729958</td>\n",
       "      <td>-0.635859</td>\n",
       "      <td>-0.746713</td>\n",
       "      <td>-0.796796</td>\n",
       "    </tr>\n",
       "    <tr>\n",
       "      <th>5</th>\n",
       "      <td>-0.190001</td>\n",
       "      <td>-0.266240</td>\n",
       "      <td>0.002743</td>\n",
       "      <td>0.281357</td>\n",
       "      <td>-0.040992</td>\n",
       "    </tr>\n",
       "    <tr>\n",
       "      <th>31</th>\n",
       "      <td>1.224969</td>\n",
       "      <td>0.732300</td>\n",
       "      <td>-0.213122</td>\n",
       "      <td>-0.191080</td>\n",
       "      <td>1.882777</td>\n",
       "    </tr>\n",
       "    <tr>\n",
       "      <th>10</th>\n",
       "      <td>3.367347</td>\n",
       "      <td>3.678628</td>\n",
       "      <td>2.811992</td>\n",
       "      <td>2.723764</td>\n",
       "      <td>3.516060</td>\n",
       "    </tr>\n",
       "    <tr>\n",
       "      <th>1</th>\n",
       "      <td>0.706620</td>\n",
       "      <td>1.016090</td>\n",
       "      <td>2.620111</td>\n",
       "      <td>2.609369</td>\n",
       "      <td>0.837073</td>\n",
       "    </tr>\n",
       "  </tbody>\n",
       "</table>\n",
       "</div>"
      ],
      "text/plain": [
       "    Video Views     Likes  Comments    Shares  Unique Viewers\n",
       "42    -0.793621 -0.729958 -0.635859 -0.746713       -0.796796\n",
       "5     -0.190001 -0.266240  0.002743  0.281357       -0.040992\n",
       "31     1.224969  0.732300 -0.213122 -0.191080        1.882777\n",
       "10     3.367347  3.678628  2.811992  2.723764        3.516060\n",
       "1      0.706620  1.016090  2.620111  2.609369        0.837073"
      ]
     },
     "execution_count": 155,
     "metadata": {},
     "output_type": "execute_result"
    }
   ],
   "source": [
    "x_samples"
   ]
  },
  {
   "cell_type": "code",
   "execution_count": 156,
   "id": "01261721",
   "metadata": {},
   "outputs": [],
   "source": [
    "y_pred_samples = y_pred_test.iloc[random_indices]"
   ]
  },
  {
   "cell_type": "code",
   "execution_count": 157,
   "id": "7ece0813",
   "metadata": {},
   "outputs": [
    {
     "data": {
      "text/html": [
       "<div>\n",
       "<style scoped>\n",
       "    .dataframe tbody tr th:only-of-type {\n",
       "        vertical-align: middle;\n",
       "    }\n",
       "\n",
       "    .dataframe tbody tr th {\n",
       "        vertical-align: top;\n",
       "    }\n",
       "\n",
       "    .dataframe thead th {\n",
       "        text-align: right;\n",
       "    }\n",
       "</style>\n",
       "<table border=\"1\" class=\"dataframe\">\n",
       "  <thead>\n",
       "    <tr style=\"text-align: right;\">\n",
       "      <th></th>\n",
       "      <th>Video Views</th>\n",
       "      <th>Likes</th>\n",
       "      <th>Comments</th>\n",
       "      <th>Shares</th>\n",
       "      <th>Unique Viewers</th>\n",
       "    </tr>\n",
       "  </thead>\n",
       "  <tbody>\n",
       "    <tr>\n",
       "      <th>11</th>\n",
       "      <td>32141.016435</td>\n",
       "      <td>-1427.247711</td>\n",
       "      <td>3235.911046</td>\n",
       "      <td>4168.074669</td>\n",
       "      <td>-15062.671900</td>\n",
       "    </tr>\n",
       "    <tr>\n",
       "      <th>18</th>\n",
       "      <td>5077.638532</td>\n",
       "      <td>2976.974935</td>\n",
       "      <td>3235.911046</td>\n",
       "      <td>3138.153419</td>\n",
       "      <td>2037.225406</td>\n",
       "    </tr>\n",
       "    <tr>\n",
       "      <th>8</th>\n",
       "      <td>17008.790775</td>\n",
       "      <td>2588.165250</td>\n",
       "      <td>3235.911046</td>\n",
       "      <td>3387.350183</td>\n",
       "      <td>39.043159</td>\n",
       "    </tr>\n",
       "    <tr>\n",
       "      <th>44</th>\n",
       "      <td>-4926.338096</td>\n",
       "      <td>4303.502095</td>\n",
       "      <td>3235.911046</td>\n",
       "      <td>2904.143162</td>\n",
       "      <td>8005.071172</td>\n",
       "    </tr>\n",
       "    <tr>\n",
       "      <th>43</th>\n",
       "      <td>-5819.754081</td>\n",
       "      <td>4458.009473</td>\n",
       "      <td>3235.911046</td>\n",
       "      <td>2882.743994</td>\n",
       "      <td>8740.594011</td>\n",
       "    </tr>\n",
       "  </tbody>\n",
       "</table>\n",
       "</div>"
      ],
      "text/plain": [
       "     Video Views        Likes     Comments       Shares  Unique Viewers\n",
       "11  32141.016435 -1427.247711  3235.911046  4168.074669   -15062.671900\n",
       "18   5077.638532  2976.974935  3235.911046  3138.153419     2037.225406\n",
       "8   17008.790775  2588.165250  3235.911046  3387.350183       39.043159\n",
       "44  -4926.338096  4303.502095  3235.911046  2904.143162     8005.071172\n",
       "43  -5819.754081  4458.009473  3235.911046  2882.743994     8740.594011"
      ]
     },
     "execution_count": 157,
     "metadata": {},
     "output_type": "execute_result"
    }
   ],
   "source": [
    "y_pred_samples "
   ]
  },
  {
   "cell_type": "code",
   "execution_count": null,
   "id": "b4693cc7",
   "metadata": {},
   "outputs": [],
   "source": []
  }
 ],
 "metadata": {
  "kernelspec": {
   "display_name": "Python 3 (ipykernel)",
   "language": "python",
   "name": "python3"
  },
  "language_info": {
   "codemirror_mode": {
    "name": "ipython",
    "version": 3
   },
   "file_extension": ".py",
   "mimetype": "text/x-python",
   "name": "python",
   "nbconvert_exporter": "python",
   "pygments_lexer": "ipython3",
   "version": "3.11.4"
  }
 },
 "nbformat": 4,
 "nbformat_minor": 5
}
